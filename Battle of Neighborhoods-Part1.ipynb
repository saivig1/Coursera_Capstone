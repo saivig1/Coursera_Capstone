{
 "cells": [
  {
   "cell_type": "markdown",
   "metadata": {},
   "source": [
    "For this week, you will required to submit the following:\n",
    "\n",
    "A description of the problem and a discussion of the background. (15 marks)  \n",
    "A description of the data and how it will be used to solve the problem. (15 marks"
   ]
  },
  {
   "cell_type": "markdown",
   "metadata": {},
   "source": [
    "#  Business Problem"
   ]
  },
  {
   "cell_type": "markdown",
   "metadata": {},
   "source": [
    "## Introduction:"
   ]
  },
  {
   "cell_type": "markdown",
   "metadata": {},
   "source": [
    "Mr.T is a wealthy investor looking to open two businesses in Chennai India,he is clear about the type of businesess  to venture:<br>\n",
    "\n",
    "1.Health bar - Fruit & Vegetable Juice bar / Kombucha brewery  \n",
    "2.Multi cusine restaurent - Food from around the world "
   ]
  },
  {
   "cell_type": "markdown",
   "metadata": {},
   "source": [
    "## Problem Statement:"
   ]
  },
  {
   "cell_type": "markdown",
   "metadata": {},
   "source": [
    "Opening the right restaurent in the right neighborhood is crucial,entering the right neighborhood affects the captial investment and will greatly determine Mr.T's future.  \n",
    "The objective for this project is to recommend neighborhood or neighborhoods that will be the best choice to start a health bar and restaurant."
   ]
  },
  {
   "cell_type": "markdown",
   "metadata": {},
   "source": [
    "# Data"
   ]
  },
  {
   "cell_type": "markdown",
   "metadata": {},
   "source": [
    "To solve this business problem with data science we will be using the following data sources  \n",
    "- Chennai's neighborhood information from wikipedia  \n",
    "- Foursquare API to get information about types of business and restaurents  \n"
   ]
  },
  {
   "cell_type": "markdown",
   "metadata": {},
   "source": [
    "## Methodology:"
   ]
  },
  {
   "cell_type": "markdown",
   "metadata": {},
   "source": [
    "We will utilize the neighborhood information and the Foursquare API to develop a clustering model to understand the clusters in Chennai's neighborhood and utilize that model data to recommend the right neighborhood."
   ]
  },
  {
   "cell_type": "code",
   "execution_count": null,
   "metadata": {},
   "outputs": [],
   "source": []
  }
 ],
 "metadata": {
  "kernelspec": {
   "display_name": "Python 3",
   "language": "python",
   "name": "python3"
  },
  "language_info": {
   "codemirror_mode": {
    "name": "ipython",
    "version": 3
   },
   "file_extension": ".py",
   "mimetype": "text/x-python",
   "name": "python",
   "nbconvert_exporter": "python",
   "pygments_lexer": "ipython3",
   "version": "3.7.3"
  }
 },
 "nbformat": 4,
 "nbformat_minor": 2
}
